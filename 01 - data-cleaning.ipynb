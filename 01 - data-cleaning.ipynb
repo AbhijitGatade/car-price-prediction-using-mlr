{
 "cells": [
  {
   "cell_type": "code",
   "execution_count": 1,
   "id": "93f80886-4ba0-4983-a74d-933c6f13312e",
   "metadata": {},
   "outputs": [],
   "source": [
    "import numpy as np\n",
    "import pandas as pd"
   ]
  },
  {
   "cell_type": "code",
   "execution_count": 3,
   "id": "9dfbbbae-e223-410f-a4eb-5035540792ab",
   "metadata": {},
   "outputs": [],
   "source": [
    "ds = pd.read_csv(\"data.csv\")"
   ]
  },
  {
   "cell_type": "code",
   "execution_count": 15,
   "id": "bf2f61b4-cae1-4541-960c-22b18b79958a",
   "metadata": {},
   "outputs": [
    {
     "name": "stdout",
     "output_type": "stream",
     "text": [
      "<class 'pandas.core.frame.DataFrame'>\n",
      "Index: 837 entries, 0 to 889\n",
      "Data columns (total 6 columns):\n",
      " #   Column      Non-Null Count  Dtype \n",
      "---  ------      --------------  ----- \n",
      " 0   name        837 non-null    object\n",
      " 1   company     837 non-null    object\n",
      " 2   year        837 non-null    object\n",
      " 3   Price       837 non-null    object\n",
      " 4   kms_driven  837 non-null    object\n",
      " 5   fuel_type   837 non-null    object\n",
      "dtypes: object(6)\n",
      "memory usage: 45.8+ KB\n"
     ]
    }
   ],
   "source": [
    "ds.info()"
   ]
  },
  {
   "cell_type": "code",
   "execution_count": 23,
   "id": "3cc0af99-7042-4632-a9de-f997a933868d",
   "metadata": {},
   "outputs": [
    {
     "data": {
      "text/plain": [
       "array([2007, 2006, 2018, 2014, 2015, 2012, 2013, 2016, 2010, 2017, 2008,\n",
       "       2011, 2019, 2009, 2005, 2000, 2003, 2004, 1995, 2002, 2001],\n",
       "      dtype=int64)"
      ]
     },
     "execution_count": 23,
     "metadata": {},
     "output_type": "execute_result"
    }
   ],
   "source": [
    "ds[\"year\"].unique()"
   ]
  },
  {
   "cell_type": "code",
   "execution_count": 35,
   "id": "c50a21c1-5828-4592-a9d1-a8e2f617ce10",
   "metadata": {},
   "outputs": [],
   "source": [
    "ds.dropna(inplace = True)"
   ]
  },
  {
   "cell_type": "code",
   "execution_count": 19,
   "id": "5f369aab-1c4f-46a0-98b9-392972a5b06b",
   "metadata": {},
   "outputs": [],
   "source": [
    "ds[\"year\"] = pd.to_numeric(ds[\"year\"], errors='coerce')"
   ]
  },
  {
   "cell_type": "code",
   "execution_count": 39,
   "id": "4c658637-8a7a-41b8-a761-ad66b5a7bbdd",
   "metadata": {},
   "outputs": [
    {
     "name": "stdout",
     "output_type": "stream",
     "text": [
      "<class 'pandas.core.frame.DataFrame'>\n",
      "Index: 816 entries, 0 to 889\n",
      "Data columns (total 6 columns):\n",
      " #   Column      Non-Null Count  Dtype  \n",
      "---  ------      --------------  -----  \n",
      " 0   name        816 non-null    object \n",
      " 1   company     816 non-null    object \n",
      " 2   year        816 non-null    int64  \n",
      " 3   Price       816 non-null    float64\n",
      " 4   kms_driven  816 non-null    object \n",
      " 5   fuel_type   816 non-null    object \n",
      "dtypes: float64(1), int64(1), object(4)\n",
      "memory usage: 44.6+ KB\n"
     ]
    }
   ],
   "source": [
    "ds.info()"
   ]
  },
  {
   "cell_type": "code",
   "execution_count": 27,
   "id": "fe97db04-79fb-41f9-9604-e5716f4d4637",
   "metadata": {},
   "outputs": [],
   "source": [
    "ds[\"Price\"] = ds[\"Price\"].str.replace(\",\", \"\")"
   ]
  },
  {
   "cell_type": "code",
   "execution_count": 31,
   "id": "9c285d14-4798-4d7c-9ccd-0e8b26f0f94e",
   "metadata": {},
   "outputs": [],
   "source": [
    "ds[\"Price\"] = pd.to_numeric(ds[\"Price\"], errors='coerce')"
   ]
  },
  {
   "cell_type": "code",
   "execution_count": 37,
   "id": "c5e041c3-a812-4c24-b141-c12098d50c01",
   "metadata": {},
   "outputs": [
    {
     "data": {
      "text/plain": [
       "array([  80000.,  425000.,  325000.,  575000.,  175000.,  190000.,\n",
       "        830000.,  250000.,  182000.,  315000.,  415000.,  320000.,\n",
       "       1000000.,  500000.,  350000.,  160000.,  310000.,   75000.,\n",
       "        100000.,  290000.,   95000.,  180000.,  385000.,  105000.,\n",
       "        650000.,  689999.,  448000.,  549000.,  501000.,  489999.,\n",
       "        280000.,  349999.,  284999.,  345000.,  499999.,  235000.,\n",
       "        249999., 1475000.,  395000.,  220000.,  170000.,   85000.,\n",
       "        200000.,  570000.,  110000.,  448999., 1891111.,  159500.,\n",
       "        344999.,  449999.,  865000.,  699000.,  375000.,  224999.,\n",
       "       1200000.,  195000.,  351000.,  240000.,   90000.,  155000.,\n",
       "        600000.,  189500.,  210000.,  390000.,  135000., 1600000.,\n",
       "        701000.,  265000.,  525000.,  372000.,  635000.,  550000.,\n",
       "        485000.,  329500.,  251111.,  569999.,   69999.,  299999.,\n",
       "        399999.,  450000.,  270000.,  158400.,  179000.,  125000.,\n",
       "        299000.,  150000.,  285000.,  340000.,   70000.,  289999.,\n",
       "        849999.,  749999.,  274999.,  984999.,  599999.,  244999.,\n",
       "        474999.,  245000.,  169500.,  275000.,  370000.,  168000.,\n",
       "        145000.,   98500.,  209000.,  185000.,  900000.,  699999.,\n",
       "        199999.,  544999.,  199000.,  540000.,   49000.,  700000.,\n",
       "         55000.,  895000.,  355000.,  565000.,  365000.,   40000.,\n",
       "        400000.,  330000.,  580000.,  379000.,  219000.,  519000.,\n",
       "        730000., 2000000., 2100000., 1400000.,  311000.,  855000.,\n",
       "        535000.,  178000.,  300000.,  255000.,  549999.,  380000.,\n",
       "         57000.,  410000.,  225000.,  120000.,   59000.,  599000.,\n",
       "        675000.,   72500.,  610000.,  230000.,  520000.,  524999.,\n",
       "        424999.,  644999.,  584999.,  799999.,  444999.,  649999.,\n",
       "        944999.,  574999.,  374999.,  130000.,  401000., 1350000.,\n",
       "        174999.,  239999.,   99999.,  324999., 1074999., 1130000.,\n",
       "        149000.,  770000.,   30000.,  335000.,  399000.,   65000.,\n",
       "        169999.,  165000.,  560000.,  950000.,  715000.,   45000.,\n",
       "        940000.,  155555., 1500000.,  495000.,  800000., 1299000.,\n",
       "        530000., 1499000.,   32000.,  405000.,  760000.,  750000.,\n",
       "        419000.,  140000., 1540000.,  123000.,  498000.,  480000.,\n",
       "        488000., 1525000.,  548900.,  725000.,   99000.,   52000.,\n",
       "       2800000.,  499000.,  381000.,  278000.,  690000.,  260000.,\n",
       "         90001.,  115000., 1599000.,  159000.,   51999.,  215000.,\n",
       "         35000., 1150000.,  269000.,   60000.,  430000., 8500003.,\n",
       "        401919.,  490000.,  424000.,  205000.,  549900.,  435000.,\n",
       "        189700.,  389700.,  360000.,  295000.,  114990., 1065000.,\n",
       "        470000.,   48000.,  188000.,  465000.,  179999., 2190000.,\n",
       "       2390000., 1075000.,  475000., 1025000.,  615000., 1900000.,\n",
       "       1490000., 1510000., 1850000.,  790000., 1725000., 1225000.,\n",
       "         68000.,  970000., 3100000.,  899000.,   88000.,   53000.,\n",
       "        568500.,   71000.,  590000.,  795000.,   42000.,  189000.,\n",
       "        162000.,   35999., 2900000.,   39999.,   50500.,  510000.,\n",
       "        860000.,  500001.])"
      ]
     },
     "execution_count": 37,
     "metadata": {},
     "output_type": "execute_result"
    }
   ],
   "source": [
    "ds[\"Price\"].unique()"
   ]
  },
  {
   "cell_type": "code",
   "execution_count": 43,
   "id": "78bc706c-6975-4edc-8557-19470452b23a",
   "metadata": {},
   "outputs": [],
   "source": [
    "ds[\"kms_driven\"] = ds[\"kms_driven\"].str.replace(\",\", \"\").str.replace(\" kms\", \"\")"
   ]
  },
  {
   "cell_type": "code",
   "execution_count": 47,
   "id": "e6647623-2aec-49ba-8ffa-0d7aa46969a1",
   "metadata": {},
   "outputs": [],
   "source": [
    "ds[\"kms_driven\"] = pd.to_numeric(ds[\"kms_driven\"], errors='coerce')"
   ]
  },
  {
   "cell_type": "code",
   "execution_count": 57,
   "id": "d141fdde-d34b-4ee4-8787-16a0a54d304f",
   "metadata": {},
   "outputs": [],
   "source": [
    "ds = ds[ds[\"kms_driven\"] >= 10000]"
   ]
  },
  {
   "cell_type": "code",
   "execution_count": 61,
   "id": "de49407f-62b7-4102-ad0c-cfad36befc25",
   "metadata": {},
   "outputs": [],
   "source": [
    "ds = ds[ds[\"kms_driven\"] <= 200000]"
   ]
  },
  {
   "cell_type": "code",
   "execution_count": 69,
   "id": "cdc559b1-9c77-4a51-85dd-f284f05634ae",
   "metadata": {},
   "outputs": [
    {
     "data": {
      "text/plain": [
       "array(['Petrol', 'Diesel', 'LPG'], dtype=object)"
      ]
     },
     "execution_count": 69,
     "metadata": {},
     "output_type": "execute_result"
    }
   ],
   "source": [
    "ds[\"fuel_type\"].unique()"
   ]
  },
  {
   "cell_type": "code",
   "execution_count": 73,
   "id": "acd10717-27ec-4fda-8316-7faa65bc8671",
   "metadata": {},
   "outputs": [
    {
     "data": {
      "text/plain": [
       "array(['Hyundai', 'Ford', 'Maruti', 'Skoda', 'Mahindra', 'Audi', 'Toyota',\n",
       "       'Renault', 'Honda', 'Datsun', 'Mitsubishi', 'Tata', 'Volkswagen',\n",
       "       'Chevrolet', 'Mini', 'BMW', 'Nissan', 'Hindustan', 'Fiat',\n",
       "       'Mercedes', 'Land', 'Force', 'Jaguar', 'Volvo'], dtype=object)"
      ]
     },
     "execution_count": 73,
     "metadata": {},
     "output_type": "execute_result"
    }
   ],
   "source": [
    "ds[\"company\"].unique()"
   ]
  },
  {
   "cell_type": "code",
   "execution_count": 83,
   "id": "54065df7-478f-414d-b456-5e9589124cdd",
   "metadata": {},
   "outputs": [],
   "source": [
    "for i in ds.index:\n",
    "    company = ds.loc[i, \"company\"]\n",
    "    name = ds.loc[i, \"name\"]\n",
    "    name = name.replace(company, \"\").strip()\n",
    "    ds.loc[i, \"name\"] = name"
   ]
  },
  {
   "cell_type": "code",
   "execution_count": 99,
   "id": "fedcefe0-3f25-48e3-b4b0-be0039ca97cd",
   "metadata": {},
   "outputs": [
    {
     "data": {
      "text/plain": [
       "array([False])"
      ]
     },
     "execution_count": 99,
     "metadata": {},
     "output_type": "execute_result"
    }
   ],
   "source": [
    "ds.duplicated().unique()"
   ]
  },
  {
   "cell_type": "code",
   "execution_count": 97,
   "id": "14012df1-5352-48a6-a2e9-7a2b14d15aef",
   "metadata": {},
   "outputs": [],
   "source": [
    "ds.drop_duplicates(inplace = True)"
   ]
  },
  {
   "cell_type": "code",
   "execution_count": 101,
   "id": "e3499e6e-8d6d-44db-9863-5b34903e9594",
   "metadata": {},
   "outputs": [
    {
     "name": "stdout",
     "output_type": "stream",
     "text": [
      "<class 'pandas.core.frame.DataFrame'>\n",
      "Index: 651 entries, 0 to 889\n",
      "Data columns (total 6 columns):\n",
      " #   Column      Non-Null Count  Dtype  \n",
      "---  ------      --------------  -----  \n",
      " 0   name        651 non-null    object \n",
      " 1   company     651 non-null    object \n",
      " 2   year        651 non-null    int64  \n",
      " 3   Price       651 non-null    float64\n",
      " 4   kms_driven  651 non-null    int64  \n",
      " 5   fuel_type   651 non-null    object \n",
      "dtypes: float64(1), int64(2), object(3)\n",
      "memory usage: 35.6+ KB\n"
     ]
    }
   ],
   "source": [
    "ds.info()"
   ]
  },
  {
   "cell_type": "code",
   "execution_count": 109,
   "id": "967a1b53-86e8-4728-9611-078fa637ab5b",
   "metadata": {},
   "outputs": [],
   "source": [
    "ds[[\"company\", \"name\", \"year\", \"kms_driven\", \"fuel_type\", \"Price\"]].to_csv(\"cleaned_data.csv\")"
   ]
  },
  {
   "cell_type": "code",
   "execution_count": 107,
   "id": "bc973510-9cff-43d1-a1f4-5a3a1ab134c0",
   "metadata": {},
   "outputs": [],
   "source": [
    "ds.reset_index(inplace = True)"
   ]
  },
  {
   "cell_type": "code",
   "execution_count": null,
   "id": "32ea6718-a187-4a33-968d-4bbbd447ef30",
   "metadata": {},
   "outputs": [],
   "source": []
  }
 ],
 "metadata": {
  "kernelspec": {
   "display_name": "Python [conda env:base] *",
   "language": "python",
   "name": "conda-base-py"
  },
  "language_info": {
   "codemirror_mode": {
    "name": "ipython",
    "version": 3
   },
   "file_extension": ".py",
   "mimetype": "text/x-python",
   "name": "python",
   "nbconvert_exporter": "python",
   "pygments_lexer": "ipython3",
   "version": "3.12.7"
  }
 },
 "nbformat": 4,
 "nbformat_minor": 5
}
